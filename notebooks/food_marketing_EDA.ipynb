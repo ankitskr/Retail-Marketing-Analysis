{
 "cells": [
  {
   "cell_type": "markdown",
   "id": "5f1f92b3-e0d7-459c-9b1e-f4a26b1f3fe3",
   "metadata": {},
   "source": [
    "## Feature Description\n",
    "\n",
    "1. **AcceptedCmp1**: 1 if customer accepted the offer in the 1st campaign, 0 otherwise  \n",
    "2. **AcceptedCmp2**: 1 if customer accepted the offer in the 2nd campaign, 0 otherwise  \n",
    "3. **AcceptedCmp3**: 1 if customer accepted the offer in the 3rd campaign, 0 otherwise  \n",
    "4. **AcceptedCmp4**: 1 if customer accepted the offer in the 4th campaign, 0 otherwise  \n",
    "5. **AcceptedCmp5**: 1 if customer accepted the offer in the 5th campaign, 0 otherwise  \n",
    "6. **Response (target)**: 1 if customer accepted the offer in the last campaign, 0 otherwise  \n",
    "7. **Complain**: 1 if customer complained in the last 2 years  \n",
    "8. **DtCustomer**: date of customer’s enrollment with the company  \n",
    "9. **Education**: customer’s level of education  \n",
    "10. **Marital**: customer’s marital status  \n",
    "11. **Kidhome**: number of small children in customer’s household  \n",
    "12. **Teenhome**: number of teenagers in customer’s household  \n",
    "13. **Income**: customer’s yearly household income  \n",
    "14. **MntFishProducts**: amount spent on fish products in the last 2 years  \n",
    "15. **MntMeatProducts**: amount spent on meat products in the last 2 years  \n",
    "16. **MntFruits**: amount spent on fruits in the last 2 years  \n",
    "17. **MntSweetProducts**: amount spent on sweet products in the last 2 years  \n",
    "18. **MntWines**: amount spent on wines in the last 2 years  \n",
    "19. **MntGoldProds**: amount spent on gold products in the last 2 years  \n",
    "20. **NumDealsPurchases**: number of purchases made with discount  \n",
    "21. **NumCatalogPurchases**: number of purchases made using catalogue  \n",
    "22. **NumStorePurchases**: number of purchases made directly in stores  \n",
    "23. **NumWebPurchases**: number of purchases made through company’s website  \n",
    "24. **NumWebVisitsMonth**: number of visits to company’s website in the last month  \n",
    "25. **Recency**: number of days since the last purchase"
   ]
  },
  {
   "cell_type": "markdown",
   "id": "f0a812db-d3db-4d6c-af82-27993ffbf01d",
   "metadata": {},
   "source": [
    "## Importing Data"
   ]
  },
  {
   "cell_type": "code",
   "execution_count": 1,
   "id": "8e935c3d-4543-4839-9d94-7280853db9e1",
   "metadata": {},
   "outputs": [],
   "source": [
    "import pandas as pd\n",
    "import seaborn as sns\n",
    "import matplotlib.pyplot as plt\n",
    "import warnings\n",
    "\n",
    "warnings.filterwarnings(\"ignore\", category=FutureWarning, module='seaborn._oldcore')"
   ]
  },
  {
   "cell_type": "code",
   "execution_count": 2,
   "id": "929e84fc-f2b3-43fc-a56e-f0d0668874e5",
   "metadata": {},
   "outputs": [],
   "source": [
    "food = pd.read_csv('data/u_food_marketing.csv')"
   ]
  },
  {
   "cell_type": "code",
   "execution_count": 3,
   "id": "70164d9f-5b77-474f-b383-ad1cd6676a28",
   "metadata": {},
   "outputs": [
    {
     "data": {
      "text/html": [
       "<div>\n",
       "<style scoped>\n",
       "    .dataframe tbody tr th:only-of-type {\n",
       "        vertical-align: middle;\n",
       "    }\n",
       "\n",
       "    .dataframe tbody tr th {\n",
       "        vertical-align: top;\n",
       "    }\n",
       "\n",
       "    .dataframe thead th {\n",
       "        text-align: right;\n",
       "    }\n",
       "</style>\n",
       "<table border=\"1\" class=\"dataframe\">\n",
       "  <thead>\n",
       "    <tr style=\"text-align: right;\">\n",
       "      <th></th>\n",
       "      <th>Income</th>\n",
       "      <th>Kidhome</th>\n",
       "      <th>Teenhome</th>\n",
       "      <th>Recency</th>\n",
       "      <th>MntWines</th>\n",
       "      <th>MntFruits</th>\n",
       "      <th>MntMeatProducts</th>\n",
       "      <th>MntFishProducts</th>\n",
       "      <th>MntSweetProducts</th>\n",
       "      <th>MntGoldProds</th>\n",
       "      <th>NumDealsPurchases</th>\n",
       "      <th>NumWebPurchases</th>\n",
       "      <th>NumCatalogPurchases</th>\n",
       "      <th>NumStorePurchases</th>\n",
       "      <th>NumWebVisitsMonth</th>\n",
       "      <th>AcceptedCmp3</th>\n",
       "      <th>AcceptedCmp4</th>\n",
       "      <th>AcceptedCmp5</th>\n",
       "      <th>AcceptedCmp1</th>\n",
       "      <th>AcceptedCmp2</th>\n",
       "      <th>Complain</th>\n",
       "      <th>Z_CostContact</th>\n",
       "      <th>Z_Revenue</th>\n",
       "      <th>Response</th>\n",
       "      <th>Age</th>\n",
       "      <th>Customer_Days</th>\n",
       "      <th>marital_Divorced</th>\n",
       "      <th>marital_Married</th>\n",
       "      <th>marital_Single</th>\n",
       "      <th>marital_Together</th>\n",
       "      <th>marital_Widow</th>\n",
       "      <th>education_2n Cycle</th>\n",
       "      <th>education_Basic</th>\n",
       "      <th>education_Graduation</th>\n",
       "      <th>education_Master</th>\n",
       "      <th>education_PhD</th>\n",
       "      <th>MntTotal</th>\n",
       "      <th>MntRegularProds</th>\n",
       "      <th>AcceptedCmpOverall</th>\n",
       "    </tr>\n",
       "  </thead>\n",
       "  <tbody>\n",
       "    <tr>\n",
       "      <th>0</th>\n",
       "      <td>58138.0</td>\n",
       "      <td>0</td>\n",
       "      <td>0</td>\n",
       "      <td>58</td>\n",
       "      <td>635</td>\n",
       "      <td>88</td>\n",
       "      <td>546</td>\n",
       "      <td>172</td>\n",
       "      <td>88</td>\n",
       "      <td>88</td>\n",
       "      <td>3</td>\n",
       "      <td>8</td>\n",
       "      <td>10</td>\n",
       "      <td>4</td>\n",
       "      <td>7</td>\n",
       "      <td>0</td>\n",
       "      <td>0</td>\n",
       "      <td>0</td>\n",
       "      <td>0</td>\n",
       "      <td>0</td>\n",
       "      <td>0</td>\n",
       "      <td>3</td>\n",
       "      <td>11</td>\n",
       "      <td>1</td>\n",
       "      <td>63</td>\n",
       "      <td>2822</td>\n",
       "      <td>0</td>\n",
       "      <td>0</td>\n",
       "      <td>1</td>\n",
       "      <td>0</td>\n",
       "      <td>0</td>\n",
       "      <td>0</td>\n",
       "      <td>0</td>\n",
       "      <td>1</td>\n",
       "      <td>0</td>\n",
       "      <td>0</td>\n",
       "      <td>1529</td>\n",
       "      <td>1441</td>\n",
       "      <td>0</td>\n",
       "    </tr>\n",
       "    <tr>\n",
       "      <th>1</th>\n",
       "      <td>46344.0</td>\n",
       "      <td>1</td>\n",
       "      <td>1</td>\n",
       "      <td>38</td>\n",
       "      <td>11</td>\n",
       "      <td>1</td>\n",
       "      <td>6</td>\n",
       "      <td>2</td>\n",
       "      <td>1</td>\n",
       "      <td>6</td>\n",
       "      <td>2</td>\n",
       "      <td>1</td>\n",
       "      <td>1</td>\n",
       "      <td>2</td>\n",
       "      <td>5</td>\n",
       "      <td>0</td>\n",
       "      <td>0</td>\n",
       "      <td>0</td>\n",
       "      <td>0</td>\n",
       "      <td>0</td>\n",
       "      <td>0</td>\n",
       "      <td>3</td>\n",
       "      <td>11</td>\n",
       "      <td>0</td>\n",
       "      <td>66</td>\n",
       "      <td>2272</td>\n",
       "      <td>0</td>\n",
       "      <td>0</td>\n",
       "      <td>1</td>\n",
       "      <td>0</td>\n",
       "      <td>0</td>\n",
       "      <td>0</td>\n",
       "      <td>0</td>\n",
       "      <td>1</td>\n",
       "      <td>0</td>\n",
       "      <td>0</td>\n",
       "      <td>21</td>\n",
       "      <td>15</td>\n",
       "      <td>0</td>\n",
       "    </tr>\n",
       "    <tr>\n",
       "      <th>2</th>\n",
       "      <td>71613.0</td>\n",
       "      <td>0</td>\n",
       "      <td>0</td>\n",
       "      <td>26</td>\n",
       "      <td>426</td>\n",
       "      <td>49</td>\n",
       "      <td>127</td>\n",
       "      <td>111</td>\n",
       "      <td>21</td>\n",
       "      <td>42</td>\n",
       "      <td>1</td>\n",
       "      <td>8</td>\n",
       "      <td>2</td>\n",
       "      <td>10</td>\n",
       "      <td>4</td>\n",
       "      <td>0</td>\n",
       "      <td>0</td>\n",
       "      <td>0</td>\n",
       "      <td>0</td>\n",
       "      <td>0</td>\n",
       "      <td>0</td>\n",
       "      <td>3</td>\n",
       "      <td>11</td>\n",
       "      <td>0</td>\n",
       "      <td>55</td>\n",
       "      <td>2471</td>\n",
       "      <td>0</td>\n",
       "      <td>0</td>\n",
       "      <td>0</td>\n",
       "      <td>1</td>\n",
       "      <td>0</td>\n",
       "      <td>0</td>\n",
       "      <td>0</td>\n",
       "      <td>1</td>\n",
       "      <td>0</td>\n",
       "      <td>0</td>\n",
       "      <td>734</td>\n",
       "      <td>692</td>\n",
       "      <td>0</td>\n",
       "    </tr>\n",
       "    <tr>\n",
       "      <th>3</th>\n",
       "      <td>26646.0</td>\n",
       "      <td>1</td>\n",
       "      <td>0</td>\n",
       "      <td>26</td>\n",
       "      <td>11</td>\n",
       "      <td>4</td>\n",
       "      <td>20</td>\n",
       "      <td>10</td>\n",
       "      <td>3</td>\n",
       "      <td>5</td>\n",
       "      <td>2</td>\n",
       "      <td>2</td>\n",
       "      <td>0</td>\n",
       "      <td>4</td>\n",
       "      <td>6</td>\n",
       "      <td>0</td>\n",
       "      <td>0</td>\n",
       "      <td>0</td>\n",
       "      <td>0</td>\n",
       "      <td>0</td>\n",
       "      <td>0</td>\n",
       "      <td>3</td>\n",
       "      <td>11</td>\n",
       "      <td>0</td>\n",
       "      <td>36</td>\n",
       "      <td>2298</td>\n",
       "      <td>0</td>\n",
       "      <td>0</td>\n",
       "      <td>0</td>\n",
       "      <td>1</td>\n",
       "      <td>0</td>\n",
       "      <td>0</td>\n",
       "      <td>0</td>\n",
       "      <td>1</td>\n",
       "      <td>0</td>\n",
       "      <td>0</td>\n",
       "      <td>48</td>\n",
       "      <td>43</td>\n",
       "      <td>0</td>\n",
       "    </tr>\n",
       "    <tr>\n",
       "      <th>4</th>\n",
       "      <td>58293.0</td>\n",
       "      <td>1</td>\n",
       "      <td>0</td>\n",
       "      <td>94</td>\n",
       "      <td>173</td>\n",
       "      <td>43</td>\n",
       "      <td>118</td>\n",
       "      <td>46</td>\n",
       "      <td>27</td>\n",
       "      <td>15</td>\n",
       "      <td>5</td>\n",
       "      <td>5</td>\n",
       "      <td>3</td>\n",
       "      <td>6</td>\n",
       "      <td>5</td>\n",
       "      <td>0</td>\n",
       "      <td>0</td>\n",
       "      <td>0</td>\n",
       "      <td>0</td>\n",
       "      <td>0</td>\n",
       "      <td>0</td>\n",
       "      <td>3</td>\n",
       "      <td>11</td>\n",
       "      <td>0</td>\n",
       "      <td>39</td>\n",
       "      <td>2320</td>\n",
       "      <td>0</td>\n",
       "      <td>1</td>\n",
       "      <td>0</td>\n",
       "      <td>0</td>\n",
       "      <td>0</td>\n",
       "      <td>0</td>\n",
       "      <td>0</td>\n",
       "      <td>0</td>\n",
       "      <td>0</td>\n",
       "      <td>1</td>\n",
       "      <td>407</td>\n",
       "      <td>392</td>\n",
       "      <td>0</td>\n",
       "    </tr>\n",
       "  </tbody>\n",
       "</table>\n",
       "</div>"
      ],
      "text/plain": [
       "    Income  Kidhome  Teenhome  Recency  MntWines  MntFruits  MntMeatProducts  \\\n",
       "0  58138.0        0         0       58       635         88              546   \n",
       "1  46344.0        1         1       38        11          1                6   \n",
       "2  71613.0        0         0       26       426         49              127   \n",
       "3  26646.0        1         0       26        11          4               20   \n",
       "4  58293.0        1         0       94       173         43              118   \n",
       "\n",
       "   MntFishProducts  MntSweetProducts  MntGoldProds  NumDealsPurchases  \\\n",
       "0              172                88            88                  3   \n",
       "1                2                 1             6                  2   \n",
       "2              111                21            42                  1   \n",
       "3               10                 3             5                  2   \n",
       "4               46                27            15                  5   \n",
       "\n",
       "   NumWebPurchases  NumCatalogPurchases  NumStorePurchases  NumWebVisitsMonth  \\\n",
       "0                8                   10                  4                  7   \n",
       "1                1                    1                  2                  5   \n",
       "2                8                    2                 10                  4   \n",
       "3                2                    0                  4                  6   \n",
       "4                5                    3                  6                  5   \n",
       "\n",
       "   AcceptedCmp3  AcceptedCmp4  AcceptedCmp5  AcceptedCmp1  AcceptedCmp2  \\\n",
       "0             0             0             0             0             0   \n",
       "1             0             0             0             0             0   \n",
       "2             0             0             0             0             0   \n",
       "3             0             0             0             0             0   \n",
       "4             0             0             0             0             0   \n",
       "\n",
       "   Complain  Z_CostContact  Z_Revenue  Response  Age  Customer_Days  \\\n",
       "0         0              3         11         1   63           2822   \n",
       "1         0              3         11         0   66           2272   \n",
       "2         0              3         11         0   55           2471   \n",
       "3         0              3         11         0   36           2298   \n",
       "4         0              3         11         0   39           2320   \n",
       "\n",
       "   marital_Divorced  marital_Married  marital_Single  marital_Together  \\\n",
       "0                 0                0               1                 0   \n",
       "1                 0                0               1                 0   \n",
       "2                 0                0               0                 1   \n",
       "3                 0                0               0                 1   \n",
       "4                 0                1               0                 0   \n",
       "\n",
       "   marital_Widow  education_2n Cycle  education_Basic  education_Graduation  \\\n",
       "0              0                   0                0                     1   \n",
       "1              0                   0                0                     1   \n",
       "2              0                   0                0                     1   \n",
       "3              0                   0                0                     1   \n",
       "4              0                   0                0                     0   \n",
       "\n",
       "   education_Master  education_PhD  MntTotal  MntRegularProds  \\\n",
       "0                 0              0      1529             1441   \n",
       "1                 0              0        21               15   \n",
       "2                 0              0       734              692   \n",
       "3                 0              0        48               43   \n",
       "4                 0              1       407              392   \n",
       "\n",
       "   AcceptedCmpOverall  \n",
       "0                   0  \n",
       "1                   0  \n",
       "2                   0  \n",
       "3                   0  \n",
       "4                   0  "
      ]
     },
     "execution_count": 3,
     "metadata": {},
     "output_type": "execute_result"
    }
   ],
   "source": [
    "pd.set_option('display.max.columns', 40)\n",
    "food.head()"
   ]
  },
  {
   "cell_type": "code",
   "execution_count": 4,
   "id": "4ad84092-fa15-409d-b79e-a139ae725eab",
   "metadata": {},
   "outputs": [
    {
     "data": {
      "text/plain": [
       "362"
      ]
     },
     "execution_count": 4,
     "metadata": {},
     "output_type": "execute_result"
    }
   ],
   "source": [
    "#Checking duplicate rows\n",
    "dup_rows = food.duplicated(keep=False)\n",
    "dup_rows.sum()"
   ]
  },
  {
   "cell_type": "code",
   "execution_count": 5,
   "id": "fe32658d-fc9d-41db-88e3-8ecae17e5a38",
   "metadata": {},
   "outputs": [
    {
     "data": {
      "text/plain": [
       "0             [28, 1118]\n",
       "1            [246, 1183]\n",
       "2            [541, 1087]\n",
       "3            [766, 1571]\n",
       "4      [646, 1399, 1705]\n",
       "             ...        \n",
       "173         [1117, 1328]\n",
       "174           [667, 864]\n",
       "175           [542, 804]\n",
       "176          [923, 1280]\n",
       "177          [632, 1093]\n",
       "Name: Indices, Length: 178, dtype: object"
      ]
     },
     "execution_count": 5,
     "metadata": {},
     "output_type": "execute_result"
    }
   ],
   "source": [
    "food[dup_rows].groupby(list(food.columns)).apply(lambda x: pd.Series({'Indices': list(x.index)})).reset_index()['Indices']"
   ]
  },
  {
   "cell_type": "code",
   "execution_count": 6,
   "id": "f57c3d16-866e-43d6-9754-f47ab89981ad",
   "metadata": {},
   "outputs": [
    {
     "data": {
      "text/html": [
       "<div>\n",
       "<style scoped>\n",
       "    .dataframe tbody tr th:only-of-type {\n",
       "        vertical-align: middle;\n",
       "    }\n",
       "\n",
       "    .dataframe tbody tr th {\n",
       "        vertical-align: top;\n",
       "    }\n",
       "\n",
       "    .dataframe thead th {\n",
       "        text-align: right;\n",
       "    }\n",
       "</style>\n",
       "<table border=\"1\" class=\"dataframe\">\n",
       "  <thead>\n",
       "    <tr style=\"text-align: right;\">\n",
       "      <th></th>\n",
       "      <th>Income</th>\n",
       "      <th>Kidhome</th>\n",
       "      <th>Teenhome</th>\n",
       "      <th>Recency</th>\n",
       "      <th>MntWines</th>\n",
       "      <th>MntFruits</th>\n",
       "      <th>MntMeatProducts</th>\n",
       "      <th>MntFishProducts</th>\n",
       "      <th>MntSweetProducts</th>\n",
       "      <th>MntGoldProds</th>\n",
       "      <th>NumDealsPurchases</th>\n",
       "      <th>NumWebPurchases</th>\n",
       "      <th>NumCatalogPurchases</th>\n",
       "      <th>NumStorePurchases</th>\n",
       "      <th>NumWebVisitsMonth</th>\n",
       "      <th>AcceptedCmp3</th>\n",
       "      <th>AcceptedCmp4</th>\n",
       "      <th>AcceptedCmp5</th>\n",
       "      <th>AcceptedCmp1</th>\n",
       "      <th>AcceptedCmp2</th>\n",
       "      <th>Complain</th>\n",
       "      <th>Z_CostContact</th>\n",
       "      <th>Z_Revenue</th>\n",
       "      <th>Response</th>\n",
       "      <th>Age</th>\n",
       "      <th>Customer_Days</th>\n",
       "      <th>marital_Divorced</th>\n",
       "      <th>marital_Married</th>\n",
       "      <th>marital_Single</th>\n",
       "      <th>marital_Together</th>\n",
       "      <th>marital_Widow</th>\n",
       "      <th>education_2n Cycle</th>\n",
       "      <th>education_Basic</th>\n",
       "      <th>education_Graduation</th>\n",
       "      <th>education_Master</th>\n",
       "      <th>education_PhD</th>\n",
       "      <th>MntTotal</th>\n",
       "      <th>MntRegularProds</th>\n",
       "      <th>AcceptedCmpOverall</th>\n",
       "    </tr>\n",
       "  </thead>\n",
       "  <tbody>\n",
       "    <tr>\n",
       "      <th>646</th>\n",
       "      <td>18690.0</td>\n",
       "      <td>0</td>\n",
       "      <td>0</td>\n",
       "      <td>77</td>\n",
       "      <td>6</td>\n",
       "      <td>1</td>\n",
       "      <td>7</td>\n",
       "      <td>23</td>\n",
       "      <td>4</td>\n",
       "      <td>19</td>\n",
       "      <td>1</td>\n",
       "      <td>1</td>\n",
       "      <td>1</td>\n",
       "      <td>2</td>\n",
       "      <td>8</td>\n",
       "      <td>0</td>\n",
       "      <td>0</td>\n",
       "      <td>0</td>\n",
       "      <td>0</td>\n",
       "      <td>0</td>\n",
       "      <td>0</td>\n",
       "      <td>3</td>\n",
       "      <td>11</td>\n",
       "      <td>0</td>\n",
       "      <td>61</td>\n",
       "      <td>2707</td>\n",
       "      <td>0</td>\n",
       "      <td>1</td>\n",
       "      <td>0</td>\n",
       "      <td>0</td>\n",
       "      <td>0</td>\n",
       "      <td>0</td>\n",
       "      <td>0</td>\n",
       "      <td>1</td>\n",
       "      <td>0</td>\n",
       "      <td>0</td>\n",
       "      <td>41</td>\n",
       "      <td>22</td>\n",
       "      <td>0</td>\n",
       "    </tr>\n",
       "    <tr>\n",
       "      <th>1399</th>\n",
       "      <td>18690.0</td>\n",
       "      <td>0</td>\n",
       "      <td>0</td>\n",
       "      <td>77</td>\n",
       "      <td>6</td>\n",
       "      <td>1</td>\n",
       "      <td>7</td>\n",
       "      <td>23</td>\n",
       "      <td>4</td>\n",
       "      <td>19</td>\n",
       "      <td>1</td>\n",
       "      <td>1</td>\n",
       "      <td>1</td>\n",
       "      <td>2</td>\n",
       "      <td>8</td>\n",
       "      <td>0</td>\n",
       "      <td>0</td>\n",
       "      <td>0</td>\n",
       "      <td>0</td>\n",
       "      <td>0</td>\n",
       "      <td>0</td>\n",
       "      <td>3</td>\n",
       "      <td>11</td>\n",
       "      <td>0</td>\n",
       "      <td>61</td>\n",
       "      <td>2707</td>\n",
       "      <td>0</td>\n",
       "      <td>1</td>\n",
       "      <td>0</td>\n",
       "      <td>0</td>\n",
       "      <td>0</td>\n",
       "      <td>0</td>\n",
       "      <td>0</td>\n",
       "      <td>1</td>\n",
       "      <td>0</td>\n",
       "      <td>0</td>\n",
       "      <td>41</td>\n",
       "      <td>22</td>\n",
       "      <td>0</td>\n",
       "    </tr>\n",
       "    <tr>\n",
       "      <th>1705</th>\n",
       "      <td>18690.0</td>\n",
       "      <td>0</td>\n",
       "      <td>0</td>\n",
       "      <td>77</td>\n",
       "      <td>6</td>\n",
       "      <td>1</td>\n",
       "      <td>7</td>\n",
       "      <td>23</td>\n",
       "      <td>4</td>\n",
       "      <td>19</td>\n",
       "      <td>1</td>\n",
       "      <td>1</td>\n",
       "      <td>1</td>\n",
       "      <td>2</td>\n",
       "      <td>8</td>\n",
       "      <td>0</td>\n",
       "      <td>0</td>\n",
       "      <td>0</td>\n",
       "      <td>0</td>\n",
       "      <td>0</td>\n",
       "      <td>0</td>\n",
       "      <td>3</td>\n",
       "      <td>11</td>\n",
       "      <td>0</td>\n",
       "      <td>61</td>\n",
       "      <td>2707</td>\n",
       "      <td>0</td>\n",
       "      <td>1</td>\n",
       "      <td>0</td>\n",
       "      <td>0</td>\n",
       "      <td>0</td>\n",
       "      <td>0</td>\n",
       "      <td>0</td>\n",
       "      <td>1</td>\n",
       "      <td>0</td>\n",
       "      <td>0</td>\n",
       "      <td>41</td>\n",
       "      <td>22</td>\n",
       "      <td>0</td>\n",
       "    </tr>\n",
       "  </tbody>\n",
       "</table>\n",
       "</div>"
      ],
      "text/plain": [
       "       Income  Kidhome  Teenhome  Recency  MntWines  MntFruits  \\\n",
       "646   18690.0        0         0       77         6          1   \n",
       "1399  18690.0        0         0       77         6          1   \n",
       "1705  18690.0        0         0       77         6          1   \n",
       "\n",
       "      MntMeatProducts  MntFishProducts  MntSweetProducts  MntGoldProds  \\\n",
       "646                 7               23                 4            19   \n",
       "1399                7               23                 4            19   \n",
       "1705                7               23                 4            19   \n",
       "\n",
       "      NumDealsPurchases  NumWebPurchases  NumCatalogPurchases  \\\n",
       "646                   1                1                    1   \n",
       "1399                  1                1                    1   \n",
       "1705                  1                1                    1   \n",
       "\n",
       "      NumStorePurchases  NumWebVisitsMonth  AcceptedCmp3  AcceptedCmp4  \\\n",
       "646                   2                  8             0             0   \n",
       "1399                  2                  8             0             0   \n",
       "1705                  2                  8             0             0   \n",
       "\n",
       "      AcceptedCmp5  AcceptedCmp1  AcceptedCmp2  Complain  Z_CostContact  \\\n",
       "646              0             0             0         0              3   \n",
       "1399             0             0             0         0              3   \n",
       "1705             0             0             0         0              3   \n",
       "\n",
       "      Z_Revenue  Response  Age  Customer_Days  marital_Divorced  \\\n",
       "646          11         0   61           2707                 0   \n",
       "1399         11         0   61           2707                 0   \n",
       "1705         11         0   61           2707                 0   \n",
       "\n",
       "      marital_Married  marital_Single  marital_Together  marital_Widow  \\\n",
       "646                 1               0                 0              0   \n",
       "1399                1               0                 0              0   \n",
       "1705                1               0                 0              0   \n",
       "\n",
       "      education_2n Cycle  education_Basic  education_Graduation  \\\n",
       "646                    0                0                     1   \n",
       "1399                   0                0                     1   \n",
       "1705                   0                0                     1   \n",
       "\n",
       "      education_Master  education_PhD  MntTotal  MntRegularProds  \\\n",
       "646                  0              0        41               22   \n",
       "1399                 0              0        41               22   \n",
       "1705                 0              0        41               22   \n",
       "\n",
       "      AcceptedCmpOverall  \n",
       "646                    0  \n",
       "1399                   0  \n",
       "1705                   0  "
      ]
     },
     "execution_count": 6,
     "metadata": {},
     "output_type": "execute_result"
    }
   ],
   "source": [
    "food.iloc[[646, 1399, 1705]]"
   ]
  },
  {
   "cell_type": "code",
   "execution_count": 7,
   "id": "7551876c-771a-44d0-9fd5-c2855a6dcb02",
   "metadata": {},
   "outputs": [],
   "source": [
    "food.drop_duplicates(keep=False, inplace=True)"
   ]
  },
  {
   "cell_type": "code",
   "execution_count": 8,
   "id": "cd4ee9f5-71ff-42e3-af3d-d05d1e1e0b04",
   "metadata": {},
   "outputs": [
    {
     "data": {
      "text/plain": [
       "0"
      ]
     },
     "execution_count": 8,
     "metadata": {},
     "output_type": "execute_result"
    }
   ],
   "source": [
    "food.duplicated(keep=False).sum()"
   ]
  },
  {
   "cell_type": "code",
   "execution_count": 9,
   "id": "5e1c9173-ed41-42f1-af41-312a071439c7",
   "metadata": {},
   "outputs": [
    {
     "data": {
      "text/plain": [
       "Income                  0\n",
       "Kidhome                 0\n",
       "Teenhome                0\n",
       "Recency                 0\n",
       "MntWines                0\n",
       "MntFruits               0\n",
       "MntMeatProducts         0\n",
       "MntFishProducts         0\n",
       "MntSweetProducts        0\n",
       "MntGoldProds            0\n",
       "NumDealsPurchases       0\n",
       "NumWebPurchases         0\n",
       "NumCatalogPurchases     0\n",
       "NumStorePurchases       0\n",
       "NumWebVisitsMonth       0\n",
       "AcceptedCmp3            0\n",
       "AcceptedCmp4            0\n",
       "AcceptedCmp5            0\n",
       "AcceptedCmp1            0\n",
       "AcceptedCmp2            0\n",
       "Complain                0\n",
       "Z_CostContact           0\n",
       "Z_Revenue               0\n",
       "Response                0\n",
       "Age                     0\n",
       "Customer_Days           0\n",
       "marital_Divorced        0\n",
       "marital_Married         0\n",
       "marital_Single          0\n",
       "marital_Together        0\n",
       "marital_Widow           0\n",
       "education_2n Cycle      0\n",
       "education_Basic         0\n",
       "education_Graduation    0\n",
       "education_Master        0\n",
       "education_PhD           0\n",
       "MntTotal                0\n",
       "MntRegularProds         0\n",
       "AcceptedCmpOverall      0\n",
       "dtype: int64"
      ]
     },
     "execution_count": 9,
     "metadata": {},
     "output_type": "execute_result"
    }
   ],
   "source": [
    "food.isnull().sum()\n",
    "#food.isna().sum()"
   ]
  },
  {
   "cell_type": "markdown",
   "id": "318fd675-3110-4243-9a2d-7aeebc368c01",
   "metadata": {},
   "source": [
    "## Feature engineering"
   ]
  },
  {
   "cell_type": "code",
   "execution_count": 10,
   "id": "f4d249e2-4c8b-4f10-9b24-2b6f36993c82",
   "metadata": {},
   "outputs": [],
   "source": [
    "food['Total_Children'] = food[['Kidhome', 'Teenhome']].sum(axis=1)"
   ]
  },
  {
   "cell_type": "code",
   "execution_count": 11,
   "id": "a7ee71f6-6822-420a-871b-51135e92feda",
   "metadata": {},
   "outputs": [],
   "source": [
    "#Converting one-hot encoded marital variables to ordinal\n",
    "food['marital_Divorced'].replace(1,5, inplace=True)\n",
    "food['marital_Married'].replace(1,4, inplace=True)\n",
    "food['marital_Single'].replace(1,3, inplace=True)\n",
    "food['marital_Together'].replace(1,2, inplace=True)\n",
    "food['marital_Widow'].replace(1,1, inplace=True)\n",
    "\n",
    "food['Marital_Status'] = food[['marital_Divorced', 'marital_Married', 'marital_Single', 'marital_Together', 'marital_Widow']].sum(axis=1)\n",
    "#food['Marital_Status_str'] = food['Marital_Status'].map({1: 'Widow', 2: 'Together', 3: 'Single', 4: 'Married', 5: 'Divorced'})"
   ]
  },
  {
   "cell_type": "code",
   "execution_count": 12,
   "id": "8e9336a8-e1a5-40dd-9cfd-ecae2e08bfb8",
   "metadata": {},
   "outputs": [
    {
     "data": {
      "text/plain": [
       "array([3, 2, 4, 5, 1], dtype=int64)"
      ]
     },
     "execution_count": 12,
     "metadata": {},
     "output_type": "execute_result"
    }
   ],
   "source": [
    "food['Marital_Status'].unique()"
   ]
  },
  {
   "cell_type": "code",
   "execution_count": 13,
   "id": "0533e91e-02bd-4305-bf9f-15b4d744ef7f",
   "metadata": {},
   "outputs": [],
   "source": [
    "#Converting one-hot encoded education variables to ordinal\n",
    "food['education_2n Cycle'].replace(1,5, inplace=True)\n",
    "food['education_Basic'].replace(1,4, inplace=True)\n",
    "food['education_Graduation'].replace(1,3, inplace=True)\n",
    "food['education_Master'].replace(1,2, inplace=True)\n",
    "food['education_PhD'].replace(1,1, inplace=True)\n",
    "\n",
    "food['Education_Status'] = food[['education_2n Cycle', 'education_Basic', 'education_Graduation', 'education_Master', 'education_PhD']].sum(axis=1)\n",
    "#food['Education_Status_str'] = food['Education_Status'].map({1: 'PhD', 2: 'Master', 3: 'Graduation', 4: 'Basic', 5: '2n Cycle'})"
   ]
  },
  {
   "cell_type": "code",
   "execution_count": 14,
   "id": "47af4e92-2cd2-48a5-8256-b5738318052b",
   "metadata": {},
   "outputs": [
    {
     "data": {
      "text/plain": [
       "array([3, 1, 2, 4, 5], dtype=int64)"
      ]
     },
     "execution_count": 14,
     "metadata": {},
     "output_type": "execute_result"
    }
   ],
   "source": [
    "food['Education_Status'].unique()"
   ]
  },
  {
   "cell_type": "code",
   "execution_count": 15,
   "id": "3c9c7e31-505d-4811-95a1-d02c5efcc5f0",
   "metadata": {},
   "outputs": [
    {
     "data": {
      "text/plain": [
       "array([0, 1])"
      ]
     },
     "execution_count": 15,
     "metadata": {},
     "output_type": "execute_result"
    }
   ],
   "source": [
    "#Condensing campaign variable\n",
    "food['Accepted_Campaign'] = (food['AcceptedCmpOverall'] != 0).astype(int)\n",
    "food['Accepted_Campaign'].unique()"
   ]
  },
  {
   "cell_type": "code",
   "execution_count": 16,
   "id": "e6bc6635-e092-4d04-8b56-7cde2fbc37ae",
   "metadata": {},
   "outputs": [],
   "source": [
    "#Age groups\n",
    "age_groups = [(21,30), (31,40), (41,50), (51,60), (61,70), (71,80)]\n",
    "age_groups_label = ['21-30', '31-40', '41-50', '51-60', '61-70', '71-80']\n",
    "n_age_groups = len(age_groups)\n",
    "\n",
    "def assign_age_group(Age):\n",
    "    for i in range(n_age_groups):\n",
    "        if age_groups[i][0] <= Age <= age_groups[i][1]:\n",
    "            return i\n",
    "    return None\n",
    "\n",
    "food['Age_Group'] = food['Age'].apply(assign_age_group)\n",
    "\n"
   ]
  },
  {
   "cell_type": "code",
   "execution_count": 17,
   "id": "19421bda-3713-4f96-bc1d-3311c114758c",
   "metadata": {},
   "outputs": [],
   "source": [
    "#Income groups\n",
    "income_groups = [(0,20), (20,40), (40,60), (60,80), (80,100), (100,150)]\n",
    "income_groups_label = ['<20', '20-40', '40-60', '60-80', '80-100', '>100']\n",
    "n_income_groups = len(income_groups)\n",
    "\n",
    "def assign_income_group(Income):\n",
    "    for i in range(n_income_groups):\n",
    "        if income_groups[i][0] <= Income/1000 < income_groups[i][1]:\n",
    "            return i\n",
    "    return None\n",
    "\n",
    "food['Income_Group'] = food['Income'].apply(assign_income_group)\n"
   ]
  },
  {
   "cell_type": "code",
   "execution_count": 18,
   "id": "8233cf5e-30af-4d6a-b79b-5ae3b9859bb6",
   "metadata": {},
   "outputs": [],
   "source": [
    "food[\"MntTotal_k\"] = food['MntTotal']/1000"
   ]
  },
  {
   "cell_type": "code",
   "execution_count": 19,
   "id": "12cbcb1c-e057-4f1d-bb9b-e3853a9138fc",
   "metadata": {},
   "outputs": [
    {
     "data": {
      "text/html": [
       "<div>\n",
       "<style scoped>\n",
       "    .dataframe tbody tr th:only-of-type {\n",
       "        vertical-align: middle;\n",
       "    }\n",
       "\n",
       "    .dataframe tbody tr th {\n",
       "        vertical-align: top;\n",
       "    }\n",
       "\n",
       "    .dataframe thead th {\n",
       "        text-align: right;\n",
       "    }\n",
       "</style>\n",
       "<table border=\"1\" class=\"dataframe\">\n",
       "  <thead>\n",
       "    <tr style=\"text-align: right;\">\n",
       "      <th></th>\n",
       "      <th>MntWines</th>\n",
       "      <th>MntFruits</th>\n",
       "      <th>MntMeatProducts</th>\n",
       "      <th>MntFishProducts</th>\n",
       "      <th>MntSweetProducts</th>\n",
       "      <th>MntGoldProds</th>\n",
       "      <th>NumDealsPurchases</th>\n",
       "      <th>NumWebPurchases</th>\n",
       "      <th>NumCatalogPurchases</th>\n",
       "      <th>NumStorePurchases</th>\n",
       "      <th>NumWebVisitsMonth</th>\n",
       "      <th>MntTotal</th>\n",
       "      <th>MntRegularProds</th>\n",
       "      <th>AcceptedCmpOverall</th>\n",
       "      <th>Total_Children</th>\n",
       "      <th>Marital_Status</th>\n",
       "      <th>Education_Status</th>\n",
       "      <th>Accepted_Campaign</th>\n",
       "      <th>Age_Group</th>\n",
       "      <th>Income_Group</th>\n",
       "      <th>MntTotal_k</th>\n",
       "    </tr>\n",
       "  </thead>\n",
       "  <tbody>\n",
       "    <tr>\n",
       "      <th>0</th>\n",
       "      <td>635</td>\n",
       "      <td>88</td>\n",
       "      <td>546</td>\n",
       "      <td>172</td>\n",
       "      <td>88</td>\n",
       "      <td>88</td>\n",
       "      <td>3</td>\n",
       "      <td>8</td>\n",
       "      <td>10</td>\n",
       "      <td>4</td>\n",
       "      <td>7</td>\n",
       "      <td>1529</td>\n",
       "      <td>1441</td>\n",
       "      <td>0</td>\n",
       "      <td>0</td>\n",
       "      <td>3</td>\n",
       "      <td>3</td>\n",
       "      <td>0</td>\n",
       "      <td>4</td>\n",
       "      <td>2</td>\n",
       "      <td>1.529</td>\n",
       "    </tr>\n",
       "    <tr>\n",
       "      <th>1</th>\n",
       "      <td>11</td>\n",
       "      <td>1</td>\n",
       "      <td>6</td>\n",
       "      <td>2</td>\n",
       "      <td>1</td>\n",
       "      <td>6</td>\n",
       "      <td>2</td>\n",
       "      <td>1</td>\n",
       "      <td>1</td>\n",
       "      <td>2</td>\n",
       "      <td>5</td>\n",
       "      <td>21</td>\n",
       "      <td>15</td>\n",
       "      <td>0</td>\n",
       "      <td>2</td>\n",
       "      <td>3</td>\n",
       "      <td>3</td>\n",
       "      <td>0</td>\n",
       "      <td>4</td>\n",
       "      <td>2</td>\n",
       "      <td>0.021</td>\n",
       "    </tr>\n",
       "    <tr>\n",
       "      <th>2</th>\n",
       "      <td>426</td>\n",
       "      <td>49</td>\n",
       "      <td>127</td>\n",
       "      <td>111</td>\n",
       "      <td>21</td>\n",
       "      <td>42</td>\n",
       "      <td>1</td>\n",
       "      <td>8</td>\n",
       "      <td>2</td>\n",
       "      <td>10</td>\n",
       "      <td>4</td>\n",
       "      <td>734</td>\n",
       "      <td>692</td>\n",
       "      <td>0</td>\n",
       "      <td>0</td>\n",
       "      <td>2</td>\n",
       "      <td>3</td>\n",
       "      <td>0</td>\n",
       "      <td>3</td>\n",
       "      <td>3</td>\n",
       "      <td>0.734</td>\n",
       "    </tr>\n",
       "    <tr>\n",
       "      <th>3</th>\n",
       "      <td>11</td>\n",
       "      <td>4</td>\n",
       "      <td>20</td>\n",
       "      <td>10</td>\n",
       "      <td>3</td>\n",
       "      <td>5</td>\n",
       "      <td>2</td>\n",
       "      <td>2</td>\n",
       "      <td>0</td>\n",
       "      <td>4</td>\n",
       "      <td>6</td>\n",
       "      <td>48</td>\n",
       "      <td>43</td>\n",
       "      <td>0</td>\n",
       "      <td>1</td>\n",
       "      <td>2</td>\n",
       "      <td>3</td>\n",
       "      <td>0</td>\n",
       "      <td>1</td>\n",
       "      <td>1</td>\n",
       "      <td>0.048</td>\n",
       "    </tr>\n",
       "    <tr>\n",
       "      <th>4</th>\n",
       "      <td>173</td>\n",
       "      <td>43</td>\n",
       "      <td>118</td>\n",
       "      <td>46</td>\n",
       "      <td>27</td>\n",
       "      <td>15</td>\n",
       "      <td>5</td>\n",
       "      <td>5</td>\n",
       "      <td>3</td>\n",
       "      <td>6</td>\n",
       "      <td>5</td>\n",
       "      <td>407</td>\n",
       "      <td>392</td>\n",
       "      <td>0</td>\n",
       "      <td>1</td>\n",
       "      <td>4</td>\n",
       "      <td>1</td>\n",
       "      <td>0</td>\n",
       "      <td>1</td>\n",
       "      <td>2</td>\n",
       "      <td>0.407</td>\n",
       "    </tr>\n",
       "  </tbody>\n",
       "</table>\n",
       "</div>"
      ],
      "text/plain": [
       "   MntWines  MntFruits  MntMeatProducts  MntFishProducts  MntSweetProducts  \\\n",
       "0       635         88              546              172                88   \n",
       "1        11          1                6                2                 1   \n",
       "2       426         49              127              111                21   \n",
       "3        11          4               20               10                 3   \n",
       "4       173         43              118               46                27   \n",
       "\n",
       "   MntGoldProds  NumDealsPurchases  NumWebPurchases  NumCatalogPurchases  \\\n",
       "0            88                  3                8                   10   \n",
       "1             6                  2                1                    1   \n",
       "2            42                  1                8                    2   \n",
       "3             5                  2                2                    0   \n",
       "4            15                  5                5                    3   \n",
       "\n",
       "   NumStorePurchases  NumWebVisitsMonth  MntTotal  MntRegularProds  \\\n",
       "0                  4                  7      1529             1441   \n",
       "1                  2                  5        21               15   \n",
       "2                 10                  4       734              692   \n",
       "3                  4                  6        48               43   \n",
       "4                  6                  5       407              392   \n",
       "\n",
       "   AcceptedCmpOverall  Total_Children  Marital_Status  Education_Status  \\\n",
       "0                   0               0               3                 3   \n",
       "1                   0               2               3                 3   \n",
       "2                   0               0               2                 3   \n",
       "3                   0               1               2                 3   \n",
       "4                   0               1               4                 1   \n",
       "\n",
       "   Accepted_Campaign  Age_Group  Income_Group  MntTotal_k  \n",
       "0                  0          4             2       1.529  \n",
       "1                  0          4             2       0.021  \n",
       "2                  0          3             3       0.734  \n",
       "3                  0          1             1       0.048  \n",
       "4                  0          1             2       0.407  "
      ]
     },
     "execution_count": 19,
     "metadata": {},
     "output_type": "execute_result"
    }
   ],
   "source": [
    "#Dropping redundant columns\n",
    "food.drop(columns=['Kidhome', 'Teenhome', \n",
    "                   'AcceptedCmp1', 'AcceptedCmp2', 'AcceptedCmp3', 'AcceptedCmp4', 'AcceptedCmp5', 'Response',  \n",
    "                   'marital_Divorced', 'marital_Married', 'marital_Single', 'marital_Together', 'marital_Widow', \n",
    "                   'education_2n Cycle', 'education_Basic', 'education_Graduation', 'education_Master', 'education_PhD', \n",
    "                   'Age', 'Income'], inplace=True)\n",
    "\n",
    "#Dropping Irrelevant/Unknown columns\n",
    "food.drop(columns=[ 'Z_CostContact', 'Z_Revenue', 'Customer_Days', 'Recency', 'Complain'], inplace=True)\n",
    "\n",
    "food.head()"
   ]
  },
  {
   "cell_type": "markdown",
   "id": "78de3252-08ba-4850-ac53-ca7ddc88c1b3",
   "metadata": {},
   "source": [
    "## Correlations"
   ]
  },
  {
   "cell_type": "code",
   "execution_count": 20,
   "id": "7450b074-def1-41d5-94d1-4e3784fdb9ca",
   "metadata": {},
   "outputs": [
    {
     "data": {
      "text/plain": [
       "Accepted_Campaign      1.000000\n",
       "AcceptedCmpOverall     0.859712\n",
       "MntWines               0.461281\n",
       "MntTotal_k             0.408568\n",
       "MntTotal               0.408568\n",
       "MntRegularProds        0.408493\n",
       "NumCatalogPurchases    0.320972\n",
       "Income_Group           0.313347\n",
       "MntMeatProducts        0.273522\n",
       "NumWebPurchases        0.217850\n",
       "Name: Accepted_Campaign, dtype: float64"
      ]
     },
     "execution_count": 20,
     "metadata": {},
     "output_type": "execute_result"
    }
   ],
   "source": [
    "X = food.select_dtypes(include='number').corr()['Accepted_Campaign'].sort_values(ascending=False)\n",
    "X[X>0.2]"
   ]
  },
  {
   "cell_type": "markdown",
   "id": "fbb6e3fe-af75-4ab3-9e93-4c485e8d5d02",
   "metadata": {},
   "source": [
    "## Customer Segmentation \n",
    "#### Age group"
   ]
  },
  {
   "cell_type": "code",
   "execution_count": 21,
   "id": "fd31f346-7847-4c44-a939-38b26635596e",
   "metadata": {},
   "outputs": [
    {
     "data": {
      "image/png": "[encoded data removed]",
      "text/plain": [
       "<Figure size 1400x300 with 3 Axes>"
      ]
     },
     "metadata": {},
     "output_type": "display_data"
    }
   ],
   "source": [
    "fig, ax = plt.subplots(1,3,figsize=(14,3))\n",
    "\n",
    "sns.barplot(data=food, x='Age_Group', y='MntTotal', ax=ax[0], estimator='count', errorbar= None)\n",
    "ax[0].set_ylabel('Total Customers')\n",
    "\n",
    "sns.barplot(data=food, x='Age_Group', y='MntTotal_k', ax=ax[1], estimator='sum', errorbar= None)\n",
    "ax[1].set_ylabel(\"Total Spending ('000)\")\n",
    "\n",
    "sns.barplot(data=food, x='Age_Group', y='Accepted_Campaign', ax=ax[2], estimator='mean')\n",
    "ax[2].set_ylabel('Accepted Campaigns')\n",
    "\n",
    "[ax_.set_xticklabels(age_groups_label) for ax_ in ax]\n",
    "plt.tight_layout()\n",
    "plt.show()\n"
   ]
  },
  {
   "cell_type": "markdown",
   "id": "5e63b6ad-e90a-418e-b14a-6490621a8471",
   "metadata": {},
   "source": [
    "- **Observations**: The majority of customers are between the ages of 31 and 70, and this group tends to spend more. However, they are less responsive to marketing campaigns. In contrast, customers in the 21-30 and 71-80 age groups show higher responsiveness to campaigns despite lower overall spending."
   ]
  },
  {
   "cell_type": "markdown",
   "id": "81d057fb-11db-4b00-8aba-0e1596114b57",
   "metadata": {},
   "source": [
    "#### Income Group"
   ]
  },
  {
   "cell_type": "code",
   "execution_count": 22,
   "id": "6b20fe1a-0bc2-498e-b2b2-af35994045d9",
   "metadata": {},
   "outputs": [
    {
     "data": {
      "image/png": "[encoded data removed]",
      "text/plain": [
       "<Figure size 1400x300 with 3 Axes>"
      ]
     },
     "metadata": {},
     "output_type": "display_data"
    }
   ],
   "source": [
    "fig, ax = plt.subplots(1,3,figsize=(14,3))\n",
    "\n",
    "sns.barplot(data=food, x='Income_Group', y='MntTotal', ax=ax[0], estimator='count', errorbar= None)\n",
    "ax[0].set_ylabel('Total Customers')\n",
    "ax[0].set_xlabel(\"Income ('000)\")\n",
    "\n",
    "sns.barplot(data=food, x='Income_Group', y='MntTotal_k', ax=ax[1], estimator='sum', errorbar= None)\n",
    "ax[1].set_ylabel(\"Total Spending ('000)\")\n",
    "ax[1].set_xlabel(\"Income ('000)\")\n",
    "\n",
    "sns.barplot(data=food, x='Income_Group', y='Accepted_Campaign', ax=ax[2], estimator='mean')\n",
    "ax[2].set_ylabel('Accepted Campaigns')\n",
    "ax[2].set_xlabel(\"Income ('000)\")\n",
    "\n",
    "[ax_.set_xticklabels(income_groups_label) for ax_ in ax]\n",
    "plt.tight_layout()\n",
    "plt.show()\n"
   ]
  },
  {
   "cell_type": "markdown",
   "id": "1f0506a1-865c-4af0-88d2-2cdd2daea0d0",
   "metadata": {},
   "source": [
    "- **Observations**: The majority of customers have an annual income between 20,000 and 80,000. Customers in the higher income bracket of 60,000 to 80,000 tend to spend more. Additionally, there is a strong positive correlation between higher annual income and the likelihood of accepting marketing campaigns."
   ]
  },
  {
   "cell_type": "markdown",
   "id": "02932f52-8e5c-473b-a2b1-206421c98150",
   "metadata": {},
   "source": [
    "#### Children at home"
   ]
  },
  {
   "cell_type": "code",
   "execution_count": 23,
   "id": "1ac34371-3e25-49d7-87f7-69260390cc69",
   "metadata": {},
   "outputs": [
    {
     "data": {
      "image/png": "[encoded data removed]",
      "text/plain": [
       "<Figure size 1400x300 with 3 Axes>"
      ]
     },
     "metadata": {},
     "output_type": "display_data"
    }
   ],
   "source": [
    "fig, ax = plt.subplots(1,3,figsize=(14,3))\n",
    "\n",
    "sns.barplot(data=food, x='Total_Children', y='MntTotal', ax=ax[0], estimator='count', errorbar= None)\n",
    "ax[0].set_ylabel('Total Customers')\n",
    "\n",
    "sns.barplot(data=food, x='Total_Children', y='MntTotal_k', ax=ax[1], estimator='sum', errorbar= None)\n",
    "ax[1].set_ylabel(\"Total Spending ('000)\")\n",
    "\n",
    "sns.barplot(data=food, x='Total_Children', y='Accepted_Campaign', ax=ax[2], estimator='mean')\n",
    "ax[2].set_ylabel('Accepted Campaigns')\n",
    "\n",
    "plt.tight_layout()\n",
    "plt.show()\n"
   ]
  },
  {
   "cell_type": "markdown",
   "id": "898b0b36-1dd2-4c21-b55e-87d886af8653",
   "metadata": {},
   "source": [
    "- **Observations**: Most of the customers have one or fewer children and they tend to spend more. Additionally, there is a negative correlation between the number of children and the likelihood of accepting marketing campaigns, with customers having more children being less likely to respond."
   ]
  },
  {
   "cell_type": "markdown",
   "id": "e1353bd4-b341-453c-857e-e334ec958ebf",
   "metadata": {},
   "source": [
    "#### Education Status"
   ]
  },
  {
   "cell_type": "code",
   "execution_count": 24,
   "id": "86bcc8a3-1303-4e0d-b9c2-3f53083f1264",
   "metadata": {},
   "outputs": [
    {
     "data": {
      "image/png": "[encoded data removed]",
      "text/plain": [
       "<Figure size 1400x300 with 3 Axes>"
      ]
     },
     "metadata": {},
     "output_type": "display_data"
    }
   ],
   "source": [
    "fig, ax = plt.subplots(1,3,figsize=(14,3))\n",
    "\n",
    "sns.barplot(data=food, x='Education_Status', y='MntTotal', ax=ax[0], estimator='count', errorbar= None)\n",
    "ax[0].set_ylabel('Total Customers')\n",
    "\n",
    "sns.barplot(data=food, x='Education_Status', y='MntTotal_k', ax=ax[1], estimator='sum', errorbar= None)\n",
    "ax[1].set_ylabel(\"Total Spending ('000)\")\n",
    "\n",
    "sns.barplot(data=food, x='Education_Status', y='Accepted_Campaign', ax=ax[2], estimator='mean')\n",
    "ax[2].set_ylabel('Accepted Campaigns')\n",
    "\n",
    "x_labels = ['PhD', 'Master', 'Graduation', 'Basic', '2n Cycle']\n",
    "[ax_.set_xticklabels(x_labels) for ax_ in ax]\n",
    "plt.tight_layout()\n",
    "plt.show()"
   ]
  },
  {
   "cell_type": "markdown",
   "id": "e47b4188-24e2-456f-82e8-4dbee2dac93f",
   "metadata": {},
   "source": [
    "- **Observations**: Customers with a graduation-level education are among the highest spenders. However, no significant correlation is observed between education level and responsiveness to marketing campaigns."
   ]
  },
  {
   "cell_type": "markdown",
   "id": "93081db4-ab37-4489-9e3f-1fe1d46f848c",
   "metadata": {},
   "source": [
    "#### Marital Status"
   ]
  },
  {
   "cell_type": "code",
   "execution_count": 25,
   "id": "55f26cb3-041c-43d7-881a-d71d23fbcf6f",
   "metadata": {},
   "outputs": [
    {
     "data": {
      "image/png": "[encoded data removed]",
      "text/plain": [
       "<Figure size 1400x300 with 3 Axes>"
      ]
     },
     "metadata": {},
     "output_type": "display_data"
    }
   ],
   "source": [
    "fig, ax = plt.subplots(1,3,figsize=(14,3))\n",
    "\n",
    "\n",
    "sns.barplot(data=food, x='Marital_Status', y='MntTotal', ax=ax[0], estimator='count', errorbar= None)\n",
    "ax[0].set_ylabel('Total Customers')\n",
    "\n",
    "sns.barplot(data=food, x='Marital_Status', y='MntTotal', ax=ax[1], estimator='sum', errorbar= None)\n",
    "ax[1].set_ylabel(\"Total Spending ('000)\")\n",
    "\n",
    "sns.barplot(data=food, x='Marital_Status', y='Accepted_Campaign', ax=ax[2], estimator='mean')\n",
    "ax[2].set_ylabel('Accepted Campaigns')\n",
    "\n",
    "x_labels = ['Widow', 'Together', 'Single', 'Married', 'Divorced']\n",
    "[ax_.set_xticklabels(x_labels) for ax_ in ax]\n",
    "plt.tight_layout()\n",
    "plt.show()"
   ]
  },
  {
   "cell_type": "markdown",
   "id": "77f2b8f1-c0c7-47c2-ad4b-65d1273a3bda",
   "metadata": {},
   "source": [
    "- **Observations**: Single, Married, and Together (Cohabiting) customers generate highest revenue. However, their marital status is not significantly correlated to their responsiveness to marketing campaigns."
   ]
  },
  {
   "cell_type": "markdown",
   "id": "2dd8dbe8-754f-448e-a1a8-0e1658aa90d9",
   "metadata": {},
   "source": [
    "## Product Segmentation"
   ]
  },
  {
   "cell_type": "markdown",
   "id": "92fc94c5-fd3d-45c9-87a6-7cf70c10cbfd",
   "metadata": {},
   "source": [
    "#### Product Items"
   ]
  },
  {
   "cell_type": "code",
   "execution_count": 26,
   "id": "3bdff462-e29c-4122-b48e-e59ae9a58569",
   "metadata": {},
   "outputs": [
    {
     "data": {
      "text/plain": [
       "1041491"
      ]
     },
     "execution_count": 26,
     "metadata": {},
     "output_type": "execute_result"
    }
   ],
   "source": [
    "total_sales = food['MntTotal'].sum()\n",
    "total_sales"
   ]
  },
  {
   "cell_type": "code",
   "execution_count": 27,
   "id": "467de165-82ef-4d44-8ea7-4115fb426dac",
   "metadata": {},
   "outputs": [],
   "source": [
    "prod_items_list = ['MntWines', 'MntFruits', 'MntMeatProducts', 'MntFishProducts', 'MntSweetProducts']\n",
    "prod_items = food[prod_items_list].sum().reset_index().rename(columns={'index':'Product',0: 'Sales'})\n",
    "prod_items['Sales_k'] = prod_items['Sales']/1000\n",
    "prod_items['Sales_Campaign_frac'] = 0.0\n",
    "\n",
    "for p in range(5):\n",
    "    pr = prod_items_list[p]\n",
    "    prod_items.loc[p, 'Sales_Campaign_pc'] = 100*(food[pr]*food['Accepted_Campaign']).sum()/total_sales"
   ]
  },
  {
   "cell_type": "code",
   "execution_count": 35,
   "id": "2717824d-27de-4127-8555-5e3f7220ba90",
   "metadata": {},
   "outputs": [
    {
     "data": {
      "image/png": "[encoded data removed]",
      "text/plain": [
       "<Figure size 1000x300 with 2 Axes>"
      ]
     },
     "metadata": {},
     "output_type": "display_data"
    }
   ],
   "source": [
    "fig, ax = plt.subplots(1,2,figsize=(10,3))\n",
    "\n",
    "sns.barplot(data=prod_items, x='Product', y='Sales_k', ax=ax[0])\n",
    "ax[0].set_ylabel(\"Sales ('000)\")\n",
    "\n",
    "sns.barplot(data=prod_items, x='Product', y='Sales_Campaign_pc', ax=ax[1])\n",
    "ax[1].set_ylabel(\"% Sales under Campaign\")\n",
    "\n",
    "x_labels = ['Wines', 'Fruits', 'Meat', 'Fish', 'Sweet']\n",
    "[ax_.set_xticklabels(x_labels) for ax_ in ax]\n",
    "plt.tight_layout()\n",
    "plt.show()"
   ]
  },
  {
   "cell_type": "markdown",
   "id": "2488786d-9904-4427-beec-8c9aa162eadc",
   "metadata": {},
   "source": [
    "- **Observations**: Wine and meat products account for the highest sales. Marketing campaigns drive sales in these category significantly."
   ]
  },
  {
   "cell_type": "markdown",
   "id": "5f5014d6-cafb-44e6-ab12-cf1ea09cb5bc",
   "metadata": {},
   "source": [
    "#### Product Type"
   ]
  },
  {
   "cell_type": "code",
   "execution_count": 33,
   "id": "22fbf697-c5f2-484e-9825-82afedbdc491",
   "metadata": {},
   "outputs": [],
   "source": [
    "prod_type_list = ['MntRegularProds', 'MntGoldProds']\n",
    "prod_type = food[prod_type_list].sum().reset_index().rename(columns={'index':'Product',0: 'Sales'})\n",
    "prod_type['Sales_k'] = prod_type['Sales']/1000\n",
    "prod_type['Sales_Campaign_frac'] = 0.0\n",
    "\n",
    "for p in range(2):\n",
    "    pr = prod_type_list[p]\n",
    "    prod_type.loc[p, 'Sales_Campaign_pc'] = 100*(food[pr]*food['Accepted_Campaign']).sum()/total_sales"
   ]
  },
  {
   "cell_type": "code",
   "execution_count": 34,
   "id": "ac6d7852-f025-41dc-8960-99c862324857",
   "metadata": {},
   "outputs": [
    {
     "data": {
      "image/png": "[encoded data removed]",
      "text/plain": [
       "<Figure size 1000x300 with 2 Axes>"
      ]
     },
     "metadata": {},
     "output_type": "display_data"
    }
   ],
   "source": [
    "fig, ax = plt.subplots(1,2,figsize=(10,3))\n",
    "\n",
    "sns.barplot(data=prod_type, x='Product', y='Sales_k', ax=ax[0])\n",
    "ax[0].set_ylabel(\"Sales ('000)\")\n",
    "\n",
    "sns.barplot(data=prod_type, x='Product', y='Sales_Campaign_pc', ax=ax[1])\n",
    "ax[1].set_ylabel(\"% Sales under Campaign\")\n",
    "\n",
    "x_labels = ['Regular', 'Gold']\n",
    "[ax_.set_xticklabels(x_labels) for ax_ in ax]\n",
    "plt.tight_layout()\n",
    "plt.show()"
   ]
  },
  {
   "cell_type": "markdown",
   "id": "a2b82cc9-b14e-415f-876f-ae54f8b8ba4d",
   "metadata": {},
   "source": [
    "- **Observations**: Regular products account for the highest sales and are significantly affected by marketing campaigns."
   ]
  },
  {
   "cell_type": "markdown",
   "id": "08d7ee85-3dfc-49ce-9755-74514318cf28",
   "metadata": {},
   "source": [
    "## Transaction Segmentation"
   ]
  },
  {
   "cell_type": "markdown",
   "id": "2e610672-a395-4c8c-a703-73bc1a9d86b1",
   "metadata": {},
   "source": [
    "#### Sales Channel"
   ]
  },
  {
   "cell_type": "code",
   "execution_count": 36,
   "id": "7f46d2d7-e891-4085-86b1-5f8bb82677ea",
   "metadata": {},
   "outputs": [],
   "source": [
    "sales_channel_list = ['NumWebPurchases', 'NumCatalogPurchases', 'NumStorePurchases']\n",
    "sales_channel = food[sales_channel_list].sum().reset_index().rename(columns={'index':'Channel',0: 'Purchase_Count'})\n",
    "sales_channel['Purchases_Campaign_frac'] = 0.0\n",
    "\n",
    "for p in range(3):\n",
    "    pr = sales_channel_list[p]\n",
    "    sales_channel.loc[p, 'Purchases_Campaign_pc'] = 100*(food[pr]*food['Accepted_Campaign']).sum()/total_sales"
   ]
  },
  {
   "cell_type": "code",
   "execution_count": 37,
   "id": "b3f24bee-2d54-4ca7-b6d0-d7b25faa84b1",
   "metadata": {},
   "outputs": [
    {
     "data": {
      "image/png": "[encoded data removed]",
      "text/plain": [
       "<Figure size 1000x300 with 2 Axes>"
      ]
     },
     "metadata": {},
     "output_type": "display_data"
    }
   ],
   "source": [
    "fig, ax = plt.subplots(1,2,figsize=(10,3))\n",
    "\n",
    "sns.barplot(data=sales_channel, x='Channel', y='Purchase_Count', ax=ax[0])\n",
    "ax[0].set_ylabel(\"Total Purchase Count\")\n",
    "\n",
    "sns.barplot(data=sales_channel, x='Channel', y='Purchases_Campaign_pc', ax=ax[1])\n",
    "ax[1].set_ylabel(\"% Purchases under Campaign\")\n",
    "\n",
    "x_labels = ['Web', 'Catalog', 'Store']\n",
    "[ax_.set_xticklabels(x_labels) for ax_ in ax]\n",
    "plt.tight_layout()\n",
    "plt.show()"
   ]
  },
  {
   "cell_type": "markdown",
   "id": "5f293d85-d15f-493e-8ca0-83a87524d3d9",
   "metadata": {},
   "source": [
    "- **Observations**: A majority of sales happen in-store. The catalog channel is more responsive to marketing campaigns."
   ]
  },
  {
   "cell_type": "markdown",
   "id": "8140f783-3cad-4dc1-a873-2a571264f476",
   "metadata": {},
   "source": [
    "## Overall findings\n",
    "- Customers aged 31-70 spend more but are less responsive to marketing. Younger (21-30) and older (71-80) customers respond better to campaigns but spend less.\n",
    "- Customers earning 60,000-80,000 spend the most, while those earning 80,000-100,000 are most responsive to marketing.\n",
    "- Customers with one or no children spend more. Those with more children are less responsive to marketing.\n",
    "- Graduates are top spenders, but education level does not affect marketing responsiveness.\n",
    "- Single, married, and cohabiting customers generate the most revenue, with marital status having little effect on marketing response.\n",
    "- Wine and meat products have the highest sales and are greatly influenced by marketing campaigns.\n",
    "- Regular products also see high sales and are significantly affected by marketing efforts.\n",
    "- Most sales occur in-store and on web, but the catalog channel responds better to marketing campaigns."
   ]
  },
  {
   "cell_type": "markdown",
   "id": "d52fd91d-0835-48cc-bc19-cba064a380e2",
   "metadata": {},
   "source": [
    "## Recommendations\n",
    "1. For higher revenue,\n",
    "- Target the customers who are aged 31-70, high income earners (60k-80k p.a.), have 1 or no kids, graduates, and single/married/cohabiting.\n",
    "- Use in-store or on web sales channels.\n",
    "- Focus on Regular products, esp. wine and meat.\n",
    "2. To attract new users,\n",
    "- Focus on customers with age 21-30 and 70-80, very high income earners (>80k p.a.), and have no kids. These people accepted campaigns at a higher rate."
   ]
  },
  {
   "cell_type": "code",
   "execution_count": null,
   "id": "d68323ef-ca37-4b7f-ab09-79968fb49635",
   "metadata": {},
   "outputs": [],
   "source": []
  },
  {
   "cell_type": "code",
   "execution_count": null,
   "id": "8abd9410-9aae-43fd-b677-aa46cfcea864",
   "metadata": {},
   "outputs": [],
   "source": []
  }
 ],
 "metadata": {
  "kernelspec": {
   "display_name": "Python 3 (ipykernel)",
   "language": "python",
   "name": "python3"
  },
  "language_info": {
   "codemirror_mode": {
    "name": "ipython",
    "version": 3
   },
   "file_extension": ".py",
   "mimetype": "text/x-python",
   "name": "python",
   "nbconvert_exporter": "python",
   "pygments_lexer": "ipython3",
   "version": "3.11.7"
  }
 },
 "nbformat": 4,
 "nbformat_minor": 5
}
